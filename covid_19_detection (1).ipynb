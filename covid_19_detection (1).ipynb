{
  "nbformat": 4,
  "nbformat_minor": 0,
  "metadata": {
    "colab": {
      "name": "covid-19 detection.ipynb",
      "provenance": []
    },
    "kernelspec": {
      "name": "python3",
      "display_name": "Python 3"
    },
    "language_info": {
      "name": "python"
    },
    "accelerator": "GPU"
  },
  "cells": [
    {
      "cell_type": "code",
      "metadata": {
        "id": "DexggsF5DVn8"
      },
      "source": [
        "# Import necessary libraries\n",
        "\n",
        "from tensorflow.keras.models import Sequential\n",
        "from tensorflow.keras.layers import Conv2D,MaxPooling2D,Dropout,Flatten,Dense\n",
        "from tensorflow.keras.optimizers import Adam\n",
        "from tensorflow.keras.preprocessing.image import ImageDataGenerator\n",
        "import numpy as np\n",
        "import matplotlib.pyplot as plt\n",
        "import os"
      ],
      "execution_count": 8,
      "outputs": []
    },
    {
      "cell_type": "code",
      "metadata": {
        "colab": {
          "base_uri": "https://localhost:8080/"
        },
        "id": "6SCclPsmDooM",
        "outputId": "044317b6-fb56-41a6-b8db-a5d734bf11f6"
      },
      "source": [
        "# clone the dataset from github repo\n",
        "\n",
        "! git clone https://github.com/education454/datasets.git"
      ],
      "execution_count": 9,
      "outputs": [
        {
          "output_type": "stream",
          "name": "stdout",
          "text": [
            "Cloning into 'datasets'...\n",
            "remote: Enumerating objects: 2301, done.\u001b[K\n",
            "remote: Total 2301 (delta 0), reused 0 (delta 0), pack-reused 2301\u001b[K\n",
            "Receiving objects: 100% (2301/2301), 1.31 GiB | 12.15 MiB/s, done.\n",
            "Checking out files: 100% (2295/2295), done.\n"
          ]
        }
      ]
    },
    {
      "cell_type": "code",
      "metadata": {
        "id": "1IKljTCekM2v"
      },
      "source": [
        "main_dir=\"/content/datasets/Data\""
      ],
      "execution_count": 10,
      "outputs": []
    },
    {
      "cell_type": "code",
      "metadata": {
        "id": "HXspv9pDD3Cz"
      },
      "source": [
        "class get_data:\n",
        "    def __init__(self, main_dir):\n",
        "        self.main_dir = main_dir\n",
        "\n",
        "    def open_dir(self):\n",
        "        #set the path to the train dir\n",
        "        self.train_dir=os.path.join(self.main_dir,'train')\n",
        "\n",
        "        #set the path to the test dir\n",
        "        self.test_dir=os.path.join(self.main_dir,'test')\n",
        "\n",
        "\n",
        "        #directory with the training covid images\n",
        "        self.train_covid_dir=os.path.join(self.train_dir,'COVID19')\n",
        "\n",
        "        #directory with the training normal images\n",
        "        self.train_normal_dir=os.path.join(self.train_dir,'NORMAL')\n",
        "\n",
        "        #directory with the testing covid images\n",
        "        self.test_covid_dir=os.path.join(self.test_dir,'COVID19')\n",
        "        #directory with the testing normal images\n",
        "        self.test_normal_dir=os.path.join(self.test_dir,'NORMAL')\n",
        "\n",
        "        return self.train_dir, self.test_dir, self.train_covid_dir, self.train_normal_dir, self.test_covid_dir, self.test_normal_dir"
      ],
      "execution_count": 23,
      "outputs": []
    },
    {
      "cell_type": "code",
      "metadata": {
        "id": "gxOrlAcxFphk"
      },
      "source": [
        "class data_augmentation(get_data):\n",
        "    def __init__(self, main_dir):\n",
        "        self.main_dir=main_dir\n",
        "    def data_aug(self):\n",
        "        self.open_dir()\n",
        "        self.dgen_train = ImageDataGenerator(rescale=1./255, validation_split=0.2,\n",
        "                                             zoom_range=0.2,\n",
        "                                             horizontal_flip=True)\n",
        "        self.dgen_validation = ImageDataGenerator(rescale=1./255)\n",
        "        self.dgen_test = ImageDataGenerator(rescale=1./255)\n",
        "\n",
        "        self.train_generator = self.dgen_train.flow_from_directory(self.train_dir,\n",
        "                                                                   target_size=(\n",
        "                                                                       150, 150),\n",
        "                                                                   subset='training',\n",
        "                                                                   batch_size=32,\n",
        "                                                                   class_mode='binary')\n",
        "        self.validation_generator = self.dgen_train.flow_from_directory(self.train_dir,\n",
        "                                                                        target_size=(\n",
        "                                                                            150, 150),\n",
        "                                                                        subset='validation',\n",
        "                                                                        batch_size=32,\n",
        "                                                                        class_mode='binary')\n",
        "        self.test_generator = self.dgen_test.flow_from_directory(self.test_dir,\n",
        "                                                                 target_size=(\n",
        "                                                                     150, 150),\n",
        "                                                                 batch_size=32,\n",
        "                                                                 class_mode='binary')"
      ],
      "execution_count": 24,
      "outputs": []
    },
    {
      "cell_type": "code",
      "metadata": {
        "id": "De5hNK90GzyM"
      },
      "source": [
        "class Model(data_augmentation):\n",
        "    def __init__(self,main_dir):\n",
        "        self.main_dir=main_dir\n",
        "        \n",
        "\n",
        "    def create_model(self):\n",
        "        self.data_aug()\n",
        "        self.model=Sequential()\n",
        "        # add the convolutional layer\n",
        "        # filters, size of filters,padding,activation_function,input_shape\n",
        "        self.model.add(Conv2D(32,(5,5),padding='same',activation='relu',input_shape=(150,150,3)))\n",
        "        # pooling layer\n",
        "        self.model.add(MaxPooling2D(pool_size=(2,2)))\n",
        "        # place a dropout layer\n",
        "        self.model.add(Dropout(0.5))\n",
        "        # add another convolutional layer\n",
        "        self.model.add(Conv2D(64,(5,5),padding='same',activation='relu'))\n",
        "        # pooling layer\n",
        "        self.model.add(MaxPooling2D(pool_size=(2,2)))\n",
        "        # place a dropout layer\n",
        "        self.model.add(Dropout(0.5))\n",
        "        # Flatten layer\n",
        "        self.model.add(Flatten())\n",
        "        # add a dense layer : amount of nodes, activation\n",
        "        self.model.add(Dense(256,activation='relu'))\n",
        "        # place a dropout layer\n",
        "        # 0.5 drop out rate is recommended, half input nodes will be dropped at each update\n",
        "        self.model.add(Dropout(0.5))\n",
        "        self.model.add(Dense(1,activation='sigmoid'))\n",
        "        self.model.compile(optimizer=Adam(lr=0.001),loss='binary_crossentropy',metrics=['accuracy'])\n",
        "        self.history=self.model.fit(self.train_generator,epochs=5,validation_data=self.validation_generator)\n",
        "        return self.history\n",
        "        \n"
      ],
      "execution_count": 25,
      "outputs": []
    },
    {
      "cell_type": "code",
      "metadata": {
        "id": "XgTRljjrlgu6"
      },
      "source": [
        "class Performance_Evaluation(Model):\n",
        "    def __init__(self,main_dir):\n",
        "        self.main_dir=main_dir\n",
        "        \n",
        "\n",
        "    def training_and_evaluation_loss(self):\n",
        "        self.create_model()\n",
        "        #plot graph between training and validation loss\n",
        "        plt.plot(self.history.history['loss'])\n",
        "        plt.plot(self.history.history['val_loss'])\n",
        "        plt.legend(['Training','Validation'])\n",
        "        plt.title('Training and validation loss')\n",
        "        plt.show()\n",
        "\n",
        "    def training_and_evaluation_accuracy(self):\n",
        "        self.create_model()\n",
        "\n",
        "        #plot graph between training and valiadation accuarcy\n",
        "        plt.plot(self.history.history['accuracy'])\n",
        "        plt.plot(self.history.history['val_accuracy'])\n",
        "        plt.legend(['Training','Validation'])\n",
        "        plt.title('Training and validation accuracy')\n",
        "        plt.show()\n"
      ],
      "execution_count": 26,
      "outputs": []
    },
    {
      "cell_type": "code",
      "metadata": {
        "id": "3nNxQcNThEjQ"
      },
      "source": [
        "class Model_Evaluation(Model):\n",
        "    def __init__(self,main_dir):\n",
        "        self.main_dir=main_dir\n",
        "\n",
        "    def model_testing(self):\n",
        "        self.data_aug()\n",
        "        self.create_model()\n",
        "\n",
        "        # get the test acuarcy and loss\n",
        "        test_loss, test_acc=self.model.evaluate(self.test_generator)\n",
        "        print('test loss : {} test acc : {}'.format(test_loss,test_acc))\n"
      ],
      "execution_count": 29,
      "outputs": []
    },
    {
      "cell_type": "code",
      "metadata": {
        "colab": {
          "base_uri": "https://localhost:8080/"
        },
        "id": "bPgwLYhuuZQu",
        "outputId": "cf515d2b-3531-49d7-e081-f8d3a00a734b"
      },
      "source": [
        "# Model training\n",
        "df=Model(main_dir)\n",
        "print(df.create_model())"
      ],
      "execution_count": 30,
      "outputs": [
        {
          "output_type": "stream",
          "name": "stdout",
          "text": [
            "Found 1449 images belonging to 2 classes.\n",
            "Found 362 images belonging to 2 classes.\n",
            "Found 484 images belonging to 2 classes.\n"
          ]
        },
        {
          "output_type": "stream",
          "name": "stderr",
          "text": [
            "/usr/local/lib/python3.7/dist-packages/keras/optimizer_v2/optimizer_v2.py:356: UserWarning: The `lr` argument is deprecated, use `learning_rate` instead.\n",
            "  \"The `lr` argument is deprecated, use `learning_rate` instead.\")\n"
          ]
        },
        {
          "output_type": "stream",
          "name": "stdout",
          "text": [
            "Epoch 1/5\n",
            "46/46 [==============================] - 56s 1s/step - loss: 0.9543 - accuracy: 0.7674 - val_loss: 0.3083 - val_accuracy: 0.9227\n",
            "Epoch 2/5\n",
            "46/46 [==============================] - 54s 1s/step - loss: 0.2283 - accuracy: 0.9137 - val_loss: 0.3542 - val_accuracy: 0.9199\n",
            "Epoch 3/5\n",
            "46/46 [==============================] - 54s 1s/step - loss: 0.1689 - accuracy: 0.9469 - val_loss: 0.4074 - val_accuracy: 0.8536\n",
            "Epoch 4/5\n",
            "46/46 [==============================] - 54s 1s/step - loss: 0.1532 - accuracy: 0.9482 - val_loss: 0.1719 - val_accuracy: 0.9503\n",
            "Epoch 5/5\n",
            "46/46 [==============================] - 54s 1s/step - loss: 0.1444 - accuracy: 0.9503 - val_loss: 0.1652 - val_accuracy: 0.9586\n",
            "<keras.callbacks.History object at 0x7f1bdd541dd0>\n"
          ]
        }
      ]
    },
    {
      "cell_type": "code",
      "metadata": {
        "colab": {
          "base_uri": "https://localhost:8080/",
          "height": 1000
        },
        "id": "8RylwscWuci3",
        "outputId": "52cb3556-dc42-4432-badd-84f312e6c0a3"
      },
      "source": [
        "# Training loss and accuracy\n",
        "d=Performance_Evaluation(main_dir)\n",
        "print(d.training_and_evaluation_loss())\n",
        "print(d.training_and_evaluation_accuracy())"
      ],
      "execution_count": 31,
      "outputs": [
        {
          "output_type": "stream",
          "name": "stdout",
          "text": [
            "Found 1449 images belonging to 2 classes.\n",
            "Found 362 images belonging to 2 classes.\n",
            "Found 484 images belonging to 2 classes.\n"
          ]
        },
        {
          "output_type": "stream",
          "name": "stderr",
          "text": [
            "/usr/local/lib/python3.7/dist-packages/keras/optimizer_v2/optimizer_v2.py:356: UserWarning: The `lr` argument is deprecated, use `learning_rate` instead.\n",
            "  \"The `lr` argument is deprecated, use `learning_rate` instead.\")\n"
          ]
        },
        {
          "output_type": "stream",
          "name": "stdout",
          "text": [
            "Epoch 1/5\n",
            "46/46 [==============================] - 56s 1s/step - loss: 0.6846 - accuracy: 0.7778 - val_loss: 0.3843 - val_accuracy: 0.8950\n",
            "Epoch 2/5\n",
            "46/46 [==============================] - 54s 1s/step - loss: 0.2284 - accuracy: 0.9213 - val_loss: 0.1803 - val_accuracy: 0.9475\n",
            "Epoch 3/5\n",
            "46/46 [==============================] - 54s 1s/step - loss: 0.1826 - accuracy: 0.9303 - val_loss: 0.1618 - val_accuracy: 0.9503\n",
            "Epoch 4/5\n",
            "46/46 [==============================] - 53s 1s/step - loss: 0.1495 - accuracy: 0.9510 - val_loss: 0.1178 - val_accuracy: 0.9641\n",
            "Epoch 5/5\n",
            "46/46 [==============================] - 53s 1s/step - loss: 0.1456 - accuracy: 0.9503 - val_loss: 0.1366 - val_accuracy: 0.9613\n"
          ]
        },
        {
          "output_type": "display_data",
          "data": {
            "image/png": "[encoded data removed]",
            "text/plain": [
              "<Figure size 432x288 with 1 Axes>"
            ]
          },
          "metadata": {
            "needs_background": "light"
          }
        },
        {
          "output_type": "stream",
          "name": "stdout",
          "text": [
            "None\n",
            "Found 1449 images belonging to 2 classes.\n",
            "Found 362 images belonging to 2 classes.\n",
            "Found 484 images belonging to 2 classes.\n",
            "Epoch 1/5\n",
            "46/46 [==============================] - 55s 1s/step - loss: 1.2260 - accuracy: 0.7288 - val_loss: 0.4187 - val_accuracy: 0.8177\n",
            "Epoch 2/5\n",
            "46/46 [==============================] - 54s 1s/step - loss: 0.3285 - accuracy: 0.8654 - val_loss: 0.3189 - val_accuracy: 0.8867\n",
            "Epoch 3/5\n",
            "46/46 [==============================] - 54s 1s/step - loss: 0.2364 - accuracy: 0.9124 - val_loss: 0.2220 - val_accuracy: 0.9116\n",
            "Epoch 4/5\n",
            "46/46 [==============================] - 53s 1s/step - loss: 0.2120 - accuracy: 0.9158 - val_loss: 0.1278 - val_accuracy: 0.9586\n",
            "Epoch 5/5\n",
            "46/46 [==============================] - 53s 1s/step - loss: 0.1725 - accuracy: 0.9324 - val_loss: 0.1993 - val_accuracy: 0.9171\n"
          ]
        },
        {
          "output_type": "display_data",
          "data": {
            "image/png": "[encoded data removed]",
            "text/plain": [
              "<Figure size 432x288 with 1 Axes>"
            ]
          },
          "metadata": {
            "needs_background": "light"
          }
        },
        {
          "output_type": "stream",
          "name": "stdout",
          "text": [
            "None\n"
          ]
        }
      ]
    },
    {
      "cell_type": "code",
      "metadata": {
        "colab": {
          "base_uri": "https://localhost:8080/"
        },
        "id": "oFZW-m5rumne",
        "outputId": "65c81b99-99d5-4d66-82e5-82c044220728"
      },
      "source": [
        "# Model evaluation\n",
        "d=Model_Evaluation(main_dir)\n",
        "print(d.model_testing())"
      ],
      "execution_count": 32,
      "outputs": [
        {
          "output_type": "stream",
          "name": "stdout",
          "text": [
            "Found 1449 images belonging to 2 classes.\n",
            "Found 362 images belonging to 2 classes.\n",
            "Found 484 images belonging to 2 classes.\n",
            "Found 1449 images belonging to 2 classes.\n",
            "Found 362 images belonging to 2 classes.\n",
            "Found 484 images belonging to 2 classes.\n"
          ]
        },
        {
          "output_type": "stream",
          "name": "stderr",
          "text": [
            "/usr/local/lib/python3.7/dist-packages/keras/optimizer_v2/optimizer_v2.py:356: UserWarning: The `lr` argument is deprecated, use `learning_rate` instead.\n",
            "  \"The `lr` argument is deprecated, use `learning_rate` instead.\")\n"
          ]
        },
        {
          "output_type": "stream",
          "name": "stdout",
          "text": [
            "Epoch 1/5\n",
            "46/46 [==============================] - 55s 1s/step - loss: 1.1648 - accuracy: 0.7350 - val_loss: 0.3509 - val_accuracy: 0.8453\n",
            "Epoch 2/5\n",
            "46/46 [==============================] - 55s 1s/step - loss: 0.3253 - accuracy: 0.8523 - val_loss: 0.2718 - val_accuracy: 0.8840\n",
            "Epoch 3/5\n",
            "46/46 [==============================] - 55s 1s/step - loss: 0.2027 - accuracy: 0.9234 - val_loss: 0.1613 - val_accuracy: 0.9503\n",
            "Epoch 4/5\n",
            "46/46 [==============================] - 54s 1s/step - loss: 0.1960 - accuracy: 0.9324 - val_loss: 0.2706 - val_accuracy: 0.8950\n",
            "Epoch 5/5\n",
            "46/46 [==============================] - 54s 1s/step - loss: 0.1564 - accuracy: 0.9462 - val_loss: 0.1996 - val_accuracy: 0.9475\n",
            "16/16 [==============================] - 12s 709ms/step - loss: 0.2035 - accuracy: 0.9194\n",
            "test loss : 0.20346878468990326 test acc : 0.9194214940071106\n",
            "None\n"
          ]
        }
      ]
    }
  ]
}